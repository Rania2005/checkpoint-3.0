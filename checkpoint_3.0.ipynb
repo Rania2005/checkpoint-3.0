{
 "cells": [
  {
   "cell_type": "code",
   "execution_count": 3,
   "id": "aba51db2-8886-4939-b39d-b22a22a3e2a8",
   "metadata": {},
   "outputs": [],
   "source": [
    "#question num:1\n",
    "def max(x,y,z):\n",
    "    if x>y and x>z:\n",
    "        print(\"x\")\n",
    "    elif y>x and y>z:\n",
    "        print(\"y\")\n",
    "    else:\n",
    "        print(\"z\")"
   ]
  },
  {
   "cell_type": "code",
   "execution_count": 4,
   "id": "7aea0252-48b1-4e01-953f-75534efe24c8",
   "metadata": {},
   "outputs": [
    {
     "name": "stdout",
     "output_type": "stream",
     "text": [
      "z\n"
     ]
    }
   ],
   "source": [
    "max(1,2,3)"
   ]
  },
  {
   "cell_type": "code",
   "execution_count": 8,
   "id": "3e78e14e-2970-41fa-a86d-411a1d28af86",
   "metadata": {},
   "outputs": [
    {
     "name": "stdout",
     "output_type": "stream",
     "text": [
      "[-20, 40]\n"
     ]
    }
   ],
   "source": [
    "#question num:2\n",
    "calculation=lambda x,y : [(x-y),(x+y)]\n",
    "print(calculation(10,30))"
   ]
  },
  {
   "cell_type": "code",
   "execution_count": 22,
   "id": "2b8e9ef9-4356-45e8-937f-c15b2bfcc3ea",
   "metadata": {},
   "outputs": [
    {
     "data": {
      "text/plain": [
       "16"
      ]
     },
     "execution_count": 22,
     "metadata": {},
     "output_type": "execute_result"
    }
   ],
   "source": [
    "#question num:3\n",
    "my_list=[3,5,8]\n",
    "sum(my_list)\n",
    "\n"
   ]
  },
  {
   "cell_type": "code",
   "execution_count": 17,
   "id": "0c66d590-0a5d-4474-8c99-66a2faa1dc95",
   "metadata": {},
   "outputs": [
    {
     "ename": "NameError",
     "evalue": "name 'numpy' is not defined",
     "output_type": "error",
     "traceback": [
      "\u001b[1;31m---------------------------------------------------------------------------\u001b[0m",
      "\u001b[1;31mNameError\u001b[0m                                 Traceback (most recent call last)",
      "\u001b[1;32m<ipython-input-17-8ce328f7c861>\u001b[0m in \u001b[0;36m<module>\u001b[1;34m\u001b[0m\n\u001b[1;32m----> 1\u001b[1;33m \u001b[0mnumpy\u001b[0m\u001b[1;33m.\u001b[0m\u001b[0mprod\u001b[0m\u001b[1;33m(\u001b[0m\u001b[0mmy_list\u001b[0m\u001b[1;33m)\u001b[0m\u001b[1;33m\u001b[0m\u001b[1;33m\u001b[0m\u001b[0m\n\u001b[0m",
      "\u001b[1;31mNameError\u001b[0m: name 'numpy' is not defined"
     ]
    }
   ],
   "source": [
    "numpy.prod(my_list)"
   ]
  },
  {
   "cell_type": "code",
   "execution_count": null,
   "id": "75f191c3-e953-4258-9f06-2be382a6f23f",
   "metadata": {},
   "outputs": [],
   "source": []
  },
  {
   "cell_type": "code",
   "execution_count": null,
   "id": "a494b214-307d-4a08-92c9-54f133ac4ffa",
   "metadata": {},
   "outputs": [],
   "source": [
    "#question num:4\n",
    "\n",
    "items=[n for n in input().split('-')]\n",
    "c=items.sort()\n",
    "print('-'.join(items))\n"
   ]
  },
  {
   "cell_type": "code",
   "execution_count": null,
   "id": "d441d3d1-cb4c-4978-a52e-344f165693ef",
   "metadata": {},
   "outputs": [],
   "source": [
    "#question  num:5\n",
    "from math import *\n",
    "def function (c,d,h):\n",
    "    print(sqrt(2 * C * D)/H)"
   ]
  },
  {
   "cell_type": "code",
   "execution_count": null,
   "id": "5eb60333-a0e3-4abe-9fc8-69d068d00888",
   "metadata": {},
   "outputs": [],
   "source": [
    "function( 100,150,180)"
   ]
  },
  {
   "cell_type": "code",
   "execution_count": null,
   "id": "a571bccd-8817-47fd-949a-f4e6803caecd",
   "metadata": {},
   "outputs": [],
   "source": []
  }
 ],
 "metadata": {
  "kernelspec": {
   "display_name": "Python 3",
   "language": "python",
   "name": "python3"
  },
  "language_info": {
   "codemirror_mode": {
    "name": "ipython",
    "version": 3
   },
   "file_extension": ".py",
   "mimetype": "text/x-python",
   "name": "python",
   "nbconvert_exporter": "python",
   "pygments_lexer": "ipython3",
   "version": "3.8.8"
  }
 },
 "nbformat": 4,
 "nbformat_minor": 5
}
